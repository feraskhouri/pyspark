{
 "cells": [
  {
   "cell_type": "markdown",
   "id": "51e9b668",
   "metadata": {},
   "source": [
    "###  pyspark ML"
   ]
  },
  {
   "cell_type": "code",
   "execution_count": 1,
   "id": "200559af",
   "metadata": {},
   "outputs": [],
   "source": [
    "from pyspark.sql import SparkSession\n",
    "# Create a Spark session\n",
    "spark = SparkSession.builder \\\n",
    "    .appName(\"Project 5\") \\\n",
    "    .getOrCreate()\n"
   ]
  },
  {
   "cell_type": "code",
   "execution_count": 2,
   "id": "5a7f67e8",
   "metadata": {},
   "outputs": [],
   "source": [
    "training = spark.read.csv(\"proj5.csv\",header=True, inferSchema=True)"
   ]
  },
  {
   "cell_type": "code",
   "execution_count": 3,
   "id": "5a03babd",
   "metadata": {},
   "outputs": [
    {
     "name": "stdout",
     "output_type": "stream",
     "text": [
      "+-----+---+---+------+\n",
      "| name|age|exp|salary|\n",
      "+-----+---+---+------+\n",
      "|feras| 32| 10|  2000|\n",
      "|milad| 65| 40|  3000|\n",
      "| sara| 24|  3|   700|\n",
      "|rahaf| 33| 10|  1500|\n",
      "+-----+---+---+------+\n",
      "\n"
     ]
    }
   ],
   "source": [
    "training.show()"
   ]
  },
  {
   "cell_type": "code",
   "execution_count": 4,
   "id": "d02ff2e8",
   "metadata": {},
   "outputs": [
    {
     "name": "stdout",
     "output_type": "stream",
     "text": [
      "root\n",
      " |-- name: string (nullable = true)\n",
      " |-- age: integer (nullable = true)\n",
      " |-- exp: integer (nullable = true)\n",
      " |-- salary: integer (nullable = true)\n",
      "\n"
     ]
    }
   ],
   "source": [
    "training.printSchema()"
   ]
  },
  {
   "cell_type": "code",
   "execution_count": 5,
   "id": "72218cf6",
   "metadata": {},
   "outputs": [
    {
     "data": {
      "text/plain": [
       "['name', 'age', 'exp', 'salary']"
      ]
     },
     "execution_count": 5,
     "metadata": {},
     "output_type": "execute_result"
    }
   ],
   "source": [
    "training.columns"
   ]
  },
  {
   "cell_type": "code",
   "execution_count": 6,
   "id": "8b7147c7",
   "metadata": {},
   "outputs": [],
   "source": [
    "from pyspark.ml.feature import VectorAssembler\n",
    "assembler = VectorAssembler(inputCols=[\"age\",\"exp\" ], outputCol=\"Independent Features\")"
   ]
  },
  {
   "cell_type": "code",
   "execution_count": 7,
   "id": "3927fe18",
   "metadata": {},
   "outputs": [],
   "source": [
    "output =assembler.transform(training)"
   ]
  },
  {
   "cell_type": "code",
   "execution_count": 8,
   "id": "2768d1a2",
   "metadata": {},
   "outputs": [
    {
     "name": "stdout",
     "output_type": "stream",
     "text": [
      "+-----+---+---+------+--------------------+\n",
      "| name|age|exp|salary|Independent Features|\n",
      "+-----+---+---+------+--------------------+\n",
      "|feras| 32| 10|  2000|         [32.0,10.0]|\n",
      "|milad| 65| 40|  3000|         [65.0,40.0]|\n",
      "| sara| 24|  3|   700|          [24.0,3.0]|\n",
      "|rahaf| 33| 10|  1500|         [33.0,10.0]|\n",
      "+-----+---+---+------+--------------------+\n",
      "\n"
     ]
    }
   ],
   "source": [
    "output.show()"
   ]
  },
  {
   "cell_type": "code",
   "execution_count": 9,
   "id": "39c2e6cf",
   "metadata": {},
   "outputs": [
    {
     "data": {
      "text/plain": [
       "['name', 'age', 'exp', 'salary', 'Independent Features']"
      ]
     },
     "execution_count": 9,
     "metadata": {},
     "output_type": "execute_result"
    }
   ],
   "source": [
    "output.columns"
   ]
  },
  {
   "cell_type": "code",
   "execution_count": 11,
   "id": "c20f9141",
   "metadata": {},
   "outputs": [],
   "source": [
    "finalized_data = output.select(\"Independent Features\", \"salary\")"
   ]
  },
  {
   "cell_type": "code",
   "execution_count": 12,
   "id": "2fbdb409",
   "metadata": {},
   "outputs": [
    {
     "name": "stdout",
     "output_type": "stream",
     "text": [
      "+--------------------+------+\n",
      "|Independent Features|salary|\n",
      "+--------------------+------+\n",
      "|         [32.0,10.0]|  2000|\n",
      "|         [65.0,40.0]|  3000|\n",
      "|          [24.0,3.0]|   700|\n",
      "|         [33.0,10.0]|  1500|\n",
      "+--------------------+------+\n",
      "\n"
     ]
    }
   ],
   "source": [
    "finalized_data.show()"
   ]
  },
  {
   "cell_type": "code",
   "execution_count": 13,
   "id": "d46a9076",
   "metadata": {},
   "outputs": [],
   "source": [
    "from pyspark.ml.regression import LinearRegression\n",
    "\n",
    "train_data,test_data= finalized_data.randomSplit([0.75,0.25])\n",
    "\n",
    "regressor = LinearRegression(featuresCol='Independent Features', labelCol='salary')\n",
    "regressor = regressor.fit(train_data)"
   ]
  },
  {
   "cell_type": "code",
   "execution_count": 14,
   "id": "e9243c8e",
   "metadata": {},
   "outputs": [
    {
     "data": {
      "text/plain": [
       "DenseVector([3555.5556, -3877.7778])"
      ]
     },
     "execution_count": 14,
     "metadata": {},
     "output_type": "execute_result"
    }
   ],
   "source": [
    "regressor.coefficients"
   ]
  },
  {
   "cell_type": "code",
   "execution_count": 15,
   "id": "4e184fa1",
   "metadata": {},
   "outputs": [
    {
     "data": {
      "text/plain": [
       "-73000.0000031392"
      ]
     },
     "execution_count": 15,
     "metadata": {},
     "output_type": "execute_result"
    }
   ],
   "source": [
    "regressor.intercept"
   ]
  },
  {
   "cell_type": "code",
   "execution_count": 16,
   "id": "3818e603",
   "metadata": {},
   "outputs": [],
   "source": [
    "pred_results = regressor.evaluate(test_data)"
   ]
  },
  {
   "cell_type": "code",
   "execution_count": 17,
   "id": "e3a024ce",
   "metadata": {},
   "outputs": [
    {
     "name": "stdout",
     "output_type": "stream",
     "text": [
      "+--------------------+------+-----------------+\n",
      "|Independent Features|salary|       prediction|\n",
      "+--------------------+------+-----------------+\n",
      "|         [33.0,10.0]|  1500|5555.555555728148|\n",
      "+--------------------+------+-----------------+\n",
      "\n"
     ]
    }
   ],
   "source": [
    "pred_results.predictions.show()"
   ]
  },
  {
   "cell_type": "code",
   "execution_count": 18,
   "id": "4dd52b5a",
   "metadata": {},
   "outputs": [
    {
     "data": {
      "text/plain": [
       "(4055.5555557281477, 16447530.865597446)"
      ]
     },
     "execution_count": 18,
     "metadata": {},
     "output_type": "execute_result"
    }
   ],
   "source": [
    "pred_results.meanAbsoluteError,pred_results.meanSquaredError"
   ]
  },
  {
   "cell_type": "code",
   "execution_count": null,
   "id": "5c339d8a",
   "metadata": {},
   "outputs": [],
   "source": []
  }
 ],
 "metadata": {
  "kernelspec": {
   "display_name": "jupyter_env",
   "language": "python",
   "name": "python3"
  },
  "language_info": {
   "codemirror_mode": {
    "name": "ipython",
    "version": 3
   },
   "file_extension": ".py",
   "mimetype": "text/x-python",
   "name": "python",
   "nbconvert_exporter": "python",
   "pygments_lexer": "ipython3",
   "version": "3.13.4"
  }
 },
 "nbformat": 4,
 "nbformat_minor": 5
}
