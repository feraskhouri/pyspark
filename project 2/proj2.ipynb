{
 "cells": [
  {
   "cell_type": "code",
   "execution_count": 6,
   "id": "168146ea",
   "metadata": {},
   "outputs": [],
   "source": [
    "import pandas as pd\n",
    "from pyspark.sql import SparkSession\n",
    "import sys"
   ]
  },
  {
   "cell_type": "code",
   "execution_count": 3,
   "id": "5f54fada",
   "metadata": {},
   "outputs": [
    {
     "data": {
      "text/html": [
       "<div>\n",
       "<style scoped>\n",
       "    .dataframe tbody tr th:only-of-type {\n",
       "        vertical-align: middle;\n",
       "    }\n",
       "\n",
       "    .dataframe tbody tr th {\n",
       "        vertical-align: top;\n",
       "    }\n",
       "\n",
       "    .dataframe thead th {\n",
       "        text-align: right;\n",
       "    }\n",
       "</style>\n",
       "<table border=\"1\" class=\"dataframe\">\n",
       "  <thead>\n",
       "    <tr style=\"text-align: right;\">\n",
       "      <th></th>\n",
       "      <th>name</th>\n",
       "      <th>age</th>\n",
       "      <th>exp</th>\n",
       "      <th>salary</th>\n",
       "    </tr>\n",
       "  </thead>\n",
       "  <tbody>\n",
       "    <tr>\n",
       "      <th>0</th>\n",
       "      <td>khader</td>\n",
       "      <td>21.0</td>\n",
       "      <td>1.0</td>\n",
       "      <td>450.0</td>\n",
       "    </tr>\n",
       "    <tr>\n",
       "      <th>1</th>\n",
       "      <td>asem</td>\n",
       "      <td>33.0</td>\n",
       "      <td>11.0</td>\n",
       "      <td>600.0</td>\n",
       "    </tr>\n",
       "    <tr>\n",
       "      <th>2</th>\n",
       "      <td>moe</td>\n",
       "      <td>55.0</td>\n",
       "      <td>30.0</td>\n",
       "      <td>2000.0</td>\n",
       "    </tr>\n",
       "    <tr>\n",
       "      <th>3</th>\n",
       "      <td>yousef</td>\n",
       "      <td>NaN</td>\n",
       "      <td>5.0</td>\n",
       "      <td>3000.0</td>\n",
       "    </tr>\n",
       "    <tr>\n",
       "      <th>4</th>\n",
       "      <td>feras</td>\n",
       "      <td>23.0</td>\n",
       "      <td>NaN</td>\n",
       "      <td>300.0</td>\n",
       "    </tr>\n",
       "  </tbody>\n",
       "</table>\n",
       "</div>"
      ],
      "text/plain": [
       "     name   age   exp  salary\n",
       "0  khader  21.0   1.0   450.0\n",
       "1    asem  33.0  11.0   600.0\n",
       "2     moe  55.0  30.0  2000.0\n",
       "3  yousef   NaN   5.0  3000.0\n",
       "4   feras  23.0   NaN   300.0"
      ]
     },
     "execution_count": 3,
     "metadata": {},
     "output_type": "execute_result"
    }
   ],
   "source": [
    "df = pd.read_csv('project2DataSet.csv')\n",
    "df.head()"
   ]
  },
  {
   "cell_type": "code",
   "execution_count": 9,
   "id": "f97f6dcc",
   "metadata": {},
   "outputs": [
    {
     "name": "stdout",
     "output_type": "stream",
     "text": [
      "Requirement already satisfied: openpyxl in d:\\pyspark\\jupyter_env\\lib\\site-packages (3.1.5)\n",
      "Requirement already satisfied: et-xmlfile in d:\\pyspark\\jupyter_env\\lib\\site-packages (from openpyxl) (2.0.0)\n",
      "Note: you may need to restart the kernel to use updated packages.\n"
     ]
    },
    {
     "data": {
      "text/html": [
       "<div>\n",
       "<style scoped>\n",
       "    .dataframe tbody tr th:only-of-type {\n",
       "        vertical-align: middle;\n",
       "    }\n",
       "\n",
       "    .dataframe tbody tr th {\n",
       "        vertical-align: top;\n",
       "    }\n",
       "\n",
       "    .dataframe thead th {\n",
       "        text-align: right;\n",
       "    }\n",
       "</style>\n",
       "<table border=\"1\" class=\"dataframe\">\n",
       "  <thead>\n",
       "    <tr style=\"text-align: right;\">\n",
       "      <th></th>\n",
       "      <th>name</th>\n",
       "      <th>age</th>\n",
       "      <th>exp</th>\n",
       "      <th>salary</th>\n",
       "    </tr>\n",
       "  </thead>\n",
       "  <tbody>\n",
       "    <tr>\n",
       "      <th>0</th>\n",
       "      <td>khader</td>\n",
       "      <td>21.0</td>\n",
       "      <td>1.0</td>\n",
       "      <td>450.0</td>\n",
       "    </tr>\n",
       "    <tr>\n",
       "      <th>1</th>\n",
       "      <td>asem</td>\n",
       "      <td>33.0</td>\n",
       "      <td>11.0</td>\n",
       "      <td>600.0</td>\n",
       "    </tr>\n",
       "    <tr>\n",
       "      <th>2</th>\n",
       "      <td>moe</td>\n",
       "      <td>55.0</td>\n",
       "      <td>30.0</td>\n",
       "      <td>2000.0</td>\n",
       "    </tr>\n",
       "    <tr>\n",
       "      <th>3</th>\n",
       "      <td>yousef</td>\n",
       "      <td>NaN</td>\n",
       "      <td>5.0</td>\n",
       "      <td>3000.0</td>\n",
       "    </tr>\n",
       "    <tr>\n",
       "      <th>4</th>\n",
       "      <td>feras</td>\n",
       "      <td>23.0</td>\n",
       "      <td>NaN</td>\n",
       "      <td>300.0</td>\n",
       "    </tr>\n",
       "    <tr>\n",
       "      <th>5</th>\n",
       "      <td>NaN</td>\n",
       "      <td>36.0</td>\n",
       "      <td>NaN</td>\n",
       "      <td>NaN</td>\n",
       "    </tr>\n",
       "  </tbody>\n",
       "</table>\n",
       "</div>"
      ],
      "text/plain": [
       "     name   age   exp  salary\n",
       "0  khader  21.0   1.0   450.0\n",
       "1    asem  33.0  11.0   600.0\n",
       "2     moe  55.0  30.0  2000.0\n",
       "3  yousef   NaN   5.0  3000.0\n",
       "4   feras  23.0   NaN   300.0\n",
       "5     NaN  36.0   NaN     NaN"
      ]
     },
     "execution_count": 9,
     "metadata": {},
     "output_type": "execute_result"
    }
   ],
   "source": [
    "%pip install openpyxl\n",
    "\n",
    "import pyspark\n",
    "import pandas as pd\n",
    "# For Excel files, use read_excel instead of read_csv\n",
    "pd.read_csv(r\"project2DataSet.csv\")\n"
   ]
  },
  {
   "cell_type": "code",
   "execution_count": 10,
   "id": "b3c77a56",
   "metadata": {},
   "outputs": [],
   "source": [
    "from pyspark.sql import SparkSession\n",
    "spark = SparkSession.builder \\\n",
    "    .appName(\"project 2\") \\\n",
    "    .getOrCreate()\n"
   ]
  },
  {
   "cell_type": "code",
   "execution_count": 11,
   "id": "258cae80",
   "metadata": {},
   "outputs": [
    {
     "data": {
      "text/html": [
       "\n",
       "            <div>\n",
       "                <p><b>SparkSession - in-memory</b></p>\n",
       "                \n",
       "        <div>\n",
       "            <p><b>SparkContext</b></p>\n",
       "\n",
       "            <p><a href=\"http://khoury:4040\">Spark UI</a></p>\n",
       "\n",
       "            <dl>\n",
       "              <dt>Version</dt>\n",
       "                <dd><code>v4.0.0</code></dd>\n",
       "              <dt>Master</dt>\n",
       "                <dd><code>local[2]</code></dd>\n",
       "              <dt>AppName</dt>\n",
       "                <dd><code>Project2</code></dd>\n",
       "            </dl>\n",
       "        </div>\n",
       "        \n",
       "            </div>\n",
       "        "
      ],
      "text/plain": [
       "<pyspark.sql.session.SparkSession at 0x158a118e7b0>"
      ]
     },
     "execution_count": 11,
     "metadata": {},
     "output_type": "execute_result"
    }
   ],
   "source": [
    "spark"
   ]
  },
  {
   "cell_type": "code",
   "execution_count": 13,
   "id": "de54e5cf",
   "metadata": {},
   "outputs": [],
   "source": [
    "df_spark = spark.read.csv(\"project2DataSet.csv\", header=True, inferSchema=True)"
   ]
  },
  {
   "cell_type": "code",
   "execution_count": 15,
   "id": "d9a86c0c",
   "metadata": {},
   "outputs": [
    {
     "name": "stdout",
     "output_type": "stream",
     "text": [
      "+------+----+----+------+\n",
      "|  name| age| exp|salary|\n",
      "+------+----+----+------+\n",
      "|khader|  21|   1|   450|\n",
      "|  asem|  33|  11|   600|\n",
      "|   moe|  55|  30|  2000|\n",
      "|yousef|NULL|   5|  3000|\n",
      "| feras|  23|NULL|   300|\n",
      "|  NULL|  36|NULL|  NULL|\n",
      "+------+----+----+------+\n",
      "\n"
     ]
    }
   ],
   "source": [
    "df_spark.show()"
   ]
  },
  {
   "cell_type": "code",
   "execution_count": 23,
   "id": "f8e58ceb",
   "metadata": {},
   "outputs": [
    {
     "name": "stdout",
     "output_type": "stream",
     "text": [
      "+----+----+------+\n",
      "| age| exp|salary|\n",
      "+----+----+------+\n",
      "|  21|   1|   450|\n",
      "|  33|  11|   600|\n",
      "|  55|  30|  2000|\n",
      "|NULL|   5|  3000|\n",
      "|  23|NULL|   300|\n",
      "|  36|NULL|  NULL|\n",
      "+----+----+------+\n",
      "\n"
     ]
    }
   ],
   "source": [
    "df_spark.drop(\"name\").show()"
   ]
  },
  {
   "cell_type": "code",
   "execution_count": 24,
   "id": "e5d8e199",
   "metadata": {},
   "outputs": [
    {
     "name": "stdout",
     "output_type": "stream",
     "text": [
      "+------+----+----+------+\n",
      "|  name| age| exp|salary|\n",
      "+------+----+----+------+\n",
      "|khader|  21|   1|   450|\n",
      "|  asem|  33|  11|   600|\n",
      "|   moe|  55|  30|  2000|\n",
      "|yousef|NULL|   5|  3000|\n",
      "| feras|  23|NULL|   300|\n",
      "|  NULL|  36|NULL|  NULL|\n",
      "+------+----+----+------+\n",
      "\n"
     ]
    }
   ],
   "source": [
    "df_spark.show()"
   ]
  },
  {
   "cell_type": "code",
   "execution_count": null,
   "id": "091860b8",
   "metadata": {},
   "outputs": [
    {
     "name": "stdout",
     "output_type": "stream",
     "text": [
      "+------+---+---+------+\n",
      "|  name|age|exp|salary|\n",
      "+------+---+---+------+\n",
      "|khader| 21|  1|   450|\n",
      "|  asem| 33| 11|   600|\n",
      "|   moe| 55| 30|  2000|\n",
      "+------+---+---+------+\n",
      "\n"
     ]
    }
   ],
   "source": [
    "#all the null values will be dropped\n",
    "df_spark.na.drop().show()"
   ]
  },
  {
   "cell_type": "code",
   "execution_count": 28,
   "id": "81014139",
   "metadata": {},
   "outputs": [
    {
     "name": "stdout",
     "output_type": "stream",
     "text": [
      "+------+---+---+------+\n",
      "|  name|age|exp|salary|\n",
      "+------+---+---+------+\n",
      "|khader| 21|  1|   450|\n",
      "|  asem| 33| 11|   600|\n",
      "|   moe| 55| 30|  2000|\n",
      "+------+---+---+------+\n",
      "\n"
     ]
    }
   ],
   "source": [
    "### any = how\n",
    "df_spark.na.drop(how='any').show()"
   ]
  },
  {
   "cell_type": "code",
   "execution_count": 29,
   "id": "2fd5962e",
   "metadata": {},
   "outputs": [
    {
     "name": "stdout",
     "output_type": "stream",
     "text": [
      "+------+----+----+------+\n",
      "|  name| age| exp|salary|\n",
      "+------+----+----+------+\n",
      "|khader|  21|   1|   450|\n",
      "|  asem|  33|  11|   600|\n",
      "|   moe|  55|  30|  2000|\n",
      "|yousef|NULL|   5|  3000|\n",
      "| feras|  23|NULL|   300|\n",
      "|  NULL|  36|NULL|  NULL|\n",
      "+------+----+----+------+\n",
      "\n"
     ]
    }
   ],
   "source": [
    "### any = how\n",
    "df_spark.na.drop(how='all').show()"
   ]
  },
  {
   "cell_type": "code",
   "execution_count": null,
   "id": "10e92ede",
   "metadata": {},
   "outputs": [
    {
     "name": "stdout",
     "output_type": "stream",
     "text": [
      "+------+----+----+------+\n",
      "|  name| age| exp|salary|\n",
      "+------+----+----+------+\n",
      "|khader|  21|   1|   450|\n",
      "|  asem|  33|  11|   600|\n",
      "|   moe|  55|  30|  2000|\n",
      "|yousef|NULL|   5|  3000|\n",
      "| feras|  23|NULL|   300|\n",
      "+------+----+----+------+\n",
      "\n"
     ]
    }
   ],
   "source": [
    "# threashold (at least 2 non-null values)\n",
    "df_spark.na.drop(thresh=2).show()"
   ]
  },
  {
   "cell_type": "code",
   "execution_count": 31,
   "id": "e018372d",
   "metadata": {},
   "outputs": [
    {
     "name": "stdout",
     "output_type": "stream",
     "text": [
      "+------+---+----+------+\n",
      "|  name|age| exp|salary|\n",
      "+------+---+----+------+\n",
      "|khader| 21|   1|   450|\n",
      "|  asem| 33|  11|   600|\n",
      "|   moe| 55|  30|  2000|\n",
      "| feras| 23|NULL|   300|\n",
      "+------+---+----+------+\n",
      "\n"
     ]
    }
   ],
   "source": [
    "## subset if we wnat to drop null values based on specific columns\n",
    "\n",
    "df_spark.na.drop(subset=[\"name\", \"age\"]).show()\n"
   ]
  },
  {
   "cell_type": "code",
   "execution_count": 42,
   "id": "4f16074e",
   "metadata": {},
   "outputs": [
    {
     "name": "stdout",
     "output_type": "stream",
     "text": [
      "+------+----+---+------+\n",
      "|  name| age|exp|salary|\n",
      "+------+----+---+------+\n",
      "|khader|  21|  1|   450|\n",
      "|  asem|  33| 11|   600|\n",
      "|   moe|  55| 30|  2000|\n",
      "|yousef|NULL|  5|  3000|\n",
      "| feras|  23|  0|   300|\n",
      "|  NULL|  36|  0|     0|\n",
      "+------+----+---+------+\n",
      "\n"
     ]
    }
   ],
   "source": [
    "### filling the null values with a specific value\n",
    "df_spark.na.fill(0,['salary','exp']).show()"
   ]
  },
  {
   "cell_type": "code",
   "execution_count": 44,
   "id": "6ea475e7",
   "metadata": {},
   "outputs": [
    {
     "name": "stdout",
     "output_type": "stream",
     "text": [
      "Mean of 'exp': 11.75\n",
      "+------+----+---+------+\n",
      "|  name| age|exp|salary|\n",
      "+------+----+---+------+\n",
      "|khader|  21|  1|   450|\n",
      "|  asem|  33| 11|   600|\n",
      "|   moe|  55| 30|  2000|\n",
      "|yousef|NULL|  5|  3000|\n",
      "| feras|  23| 11|   300|\n",
      "|  NULL|  36| 11|  NULL|\n",
      "+------+----+---+------+\n",
      "\n"
     ]
    }
   ],
   "source": [
    "from pyspark.sql import functions as F\n",
    "\n",
    "# Calculate the mean of 'exp' column\n",
    "exp_mean = df_spark.select(F.mean('exp')).collect()[0][0]\n",
    "print(f\"Mean of 'exp': {exp_mean}\")\n",
    "# Fill null values in 'exp' column with the mean\n",
    "df_spark.na.fill({'exp': exp_mean}).show()"
   ]
  },
  {
   "cell_type": "code",
   "execution_count": 54,
   "id": "f700273c",
   "metadata": {},
   "outputs": [],
   "source": [
    "from pyspark.ml.feature import Imputer\n",
    "Imputer = Imputer(\n",
    "    inputCols=['age', 'salary', 'exp'],\n",
    "    outputCols=[\"{}_imputed\".format(c) for c in ['age', 'salary', 'exp']],\n",
    ").setStrategy(\"mean\")"
   ]
  },
  {
   "cell_type": "code",
   "execution_count": 55,
   "id": "9ab7b4cc",
   "metadata": {},
   "outputs": [
    {
     "name": "stdout",
     "output_type": "stream",
     "text": [
      "+------+----+----+------+-----------+--------------+-----------+\n",
      "|  name| age| exp|salary|age_imputed|salary_imputed|exp_imputed|\n",
      "+------+----+----+------+-----------+--------------+-----------+\n",
      "|khader|  21|   1|   450|         21|           450|          1|\n",
      "|  asem|  33|  11|   600|         33|           600|         11|\n",
      "|   moe|  55|  30|  2000|         55|          2000|         30|\n",
      "|yousef|NULL|   5|  3000|         33|          3000|          5|\n",
      "| feras|  23|NULL|   300|         23|           300|         11|\n",
      "|  NULL|  36|NULL|  NULL|         36|          1270|         11|\n",
      "+------+----+----+------+-----------+--------------+-----------+\n",
      "\n"
     ]
    }
   ],
   "source": [
    "Imputer.fit(df_spark).transform(df_spark).show()"
   ]
  },
  {
   "cell_type": "code",
   "execution_count": 56,
   "id": "405fccd1",
   "metadata": {},
   "outputs": [],
   "source": [
    "spark.stop()"
   ]
  },
  {
   "cell_type": "code",
   "execution_count": null,
   "id": "9616bf74",
   "metadata": {},
   "outputs": [],
   "source": []
  }
 ],
 "metadata": {
  "kernelspec": {
   "display_name": "jupyter_env",
   "language": "python",
   "name": "python3"
  },
  "language_info": {
   "codemirror_mode": {
    "name": "ipython",
    "version": 3
   },
   "file_extension": ".py",
   "mimetype": "text/x-python",
   "name": "python",
   "nbconvert_exporter": "python",
   "pygments_lexer": "ipython3",
   "version": "3.13.4"
  }
 },
 "nbformat": 4,
 "nbformat_minor": 5
}
